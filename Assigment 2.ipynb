{
 "cells": [
  {
   "cell_type": "code",
   "execution_count": 4,
   "id": "afd449aa-479d-404d-b12b-89f164becee1",
   "metadata": {},
   "outputs": [
    {
     "name": "stdin",
     "output_type": "stream",
     "text": [
      "enter yourmarks 40\n"
     ]
    },
    {
     "name": "stdout",
     "output_type": "stream",
     "text": [
      "Grade D\n"
     ]
    }
   ],
   "source": [
    "##Q1.\n",
    "marks  = int(input(\"enter yourmarks\"))\n",
    "if marks>90 :\n",
    "    print(\"Grade A\")\n",
    "elif marks>80 and marks<=90 :\n",
    "    print(\"Grade B\")\n",
    "elif marks>=60 and marks <=80:\n",
    "     print(\"Grade C\")     \n",
    "else :\n",
    "    print(\"Grade D\")"
   ]
  },
  {
   "cell_type": "code",
   "execution_count": 13,
   "id": "8b25b3d9-baa9-4b63-9020-d7d68d386850",
   "metadata": {},
   "outputs": [
    {
     "name": "stdin",
     "output_type": "stream",
     "text": [
      "enter your c p 59999\n"
     ]
    },
    {
     "name": "stdout",
     "output_type": "stream",
     "text": [
      "10% tax\n"
     ]
    }
   ],
   "source": [
    "##Q2.\n",
    "cp = int(input(\"enter your c p\"))\n",
    "if cp>100000:\n",
    "    print(\"15% tax\")\n",
    "elif cp >50000 and cp<=100000 :\n",
    "    print(\"10% tax\")\n",
    "else :\n",
    "    print(\"5% tax\")"
   ]
  },
  {
   "cell_type": "code",
   "execution_count": 2,
   "id": "8985471b-b2ac-4d23-a5de-cb11cb1beb30",
   "metadata": {},
   "outputs": [
    {
     "name": "stdin",
     "output_type": "stream",
     "text": [
      "enter your city  jaipur\n"
     ]
    },
    {
     "name": "stdout",
     "output_type": "stream",
     "text": [
      "jal Mahal\n"
     ]
    }
   ],
   "source": [
    "#Q3\n",
    "city = (input(\"enter your city \"))\n",
    "if city == \"delhi\":\n",
    "    print(\"Red Fort\")\n",
    "elif city == \"agra\" :\n",
    "    print(\"Taj Mahal\")\n",
    "else :\n",
    "    print(\"jal Mahal\")"
   ]
  },
  {
   "cell_type": "code",
   "execution_count": null,
   "id": "bbc0a8b0-146b-4f69-ba3d-4dcd162a96ea",
   "metadata": {},
   "outputs": [],
   "source": [
    "##Q4\n",
    "number = int(input(\"enter a number\"))\n",
    "count= 0\n",
    "while number>10:\n",
    "    count=count+1\n",
    "    number =number/3\n",
    "print(count)\n"
   ]
  },
  {
   "cell_type": "code",
   "execution_count": 1,
   "id": "fcc18a8c-ac74-443e-b0f7-887d01eacd7f",
   "metadata": {},
   "outputs": [
    {
     "name": "stdout",
     "output_type": "stream",
     "text": [
      "10\n",
      "9\n",
      "8\n",
      "7\n",
      "6\n",
      "5\n",
      "4\n",
      "3\n",
      "2\n",
      "1\n"
     ]
    }
   ],
   "source": [
    "##Q7\n",
    "i=10\n",
    "while i>0:\n",
    "    print(i)\n",
    "    i=i-1"
   ]
  },
  {
   "cell_type": "code",
   "execution_count": 2,
   "id": "c12d12c7-8f7a-40c5-8e86-2ed9d82e3c1b",
   "metadata": {},
   "outputs": [
    {
     "name": "stdout",
     "output_type": "stream",
     "text": [
      "10\n",
      "9\n",
      "8\n",
      "7\n",
      "6\n",
      "5\n",
      "4\n",
      "3\n",
      "2\n",
      "1\n"
     ]
    }
   ],
   "source": [
    "##Q8\n",
    "i=10\n",
    "while i>0:\n",
    "    print(i)\n",
    "    i=i-1"
   ]
  },
  {
   "cell_type": "code",
   "execution_count": 3,
   "id": "57cfcdac-b7e9-4a51-a0dd-25e6281ec7c0",
   "metadata": {},
   "outputs": [
    {
     "name": "stdin",
     "output_type": "stream",
     "text": [
      "enter the number of row  4\n"
     ]
    },
    {
     "name": "stdout",
     "output_type": "stream",
     "text": [
      "* \n",
      "* * \n",
      "* * * \n",
      "* * * * \n"
     ]
    }
   ],
   "source": [
    "##Q6\n",
    "n= int(input(\"enter the number of row \"))\n",
    "i=1\n",
    "while i<=n:\n",
    "    j=1\n",
    "    while j<=i:\n",
    "        print(\"*\" , end =\" \")\n",
    "        j+=1\n",
    "    print()\n",
    "    i+=1"
   ]
  },
  {
   "cell_type": "code",
   "execution_count": null,
   "id": "5c810e5b-6619-4db8-bc43-89ecab09988d",
   "metadata": {},
   "outputs": [],
   "source": [
    "##Q5\n",
    "python while loop is used to a run a block code until a certain condition is met.\n",
    "syntex of the while condition :\n",
    "    whi\n",
    " "
   ]
  }
 ],
 "metadata": {
  "kernelspec": {
   "display_name": "Python 3 (ipykernel)",
   "language": "python",
   "name": "python3"
  },
  "language_info": {
   "codemirror_mode": {
    "name": "ipython",
    "version": 3
   },
   "file_extension": ".py",
   "mimetype": "text/x-python",
   "name": "python",
   "nbconvert_exporter": "python",
   "pygments_lexer": "ipython3",
   "version": "3.10.8"
  }
 },
 "nbformat": 4,
 "nbformat_minor": 5
}
